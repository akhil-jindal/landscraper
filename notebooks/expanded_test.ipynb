{
 "cells": [
  {
   "cell_type": "markdown",
   "metadata": {},
   "source": [
    "# landscraper - doing the dirty work for intellectual property (IP) decisions"
   ]
  },
  {
   "cell_type": "markdown",
   "metadata": {},
   "source": [
    "## Library Imports:"
   ]
  },
  {
   "cell_type": "code",
   "execution_count": 15,
   "metadata": {},
   "outputs": [],
   "source": [
    "from sklearn.datasets import *\n",
    "from sklearn.pipeline import Pipeline\n",
    "\n",
    "import matplotlib.pyplot as plt\n",
    "from sklearn.model_selection import cross_val_predict\n",
    "import scikitplot as skplt\n",
    "from sklearn import metrics\n",
    "\n",
    "import pickle\n",
    "\n",
    "from glob import glob\n",
    "import numpy as np\n",
    "\n",
    "import os"
   ]
  },
  {
   "cell_type": "markdown",
   "metadata": {},
   "source": [
    "## Load Models: "
   ]
  },
  {
   "cell_type": "code",
   "execution_count": 2,
   "metadata": {},
   "outputs": [],
   "source": [
    "with open(\"/home/ajindal/Documents/Projects/landscraper/pickles/model_1\", \"rb\") as f:\n",
    "    model = pickle.load(f)\n",
    "    \n",
    "with open(\"/home/ajindal/Documents/Projects/landscraper/pickles/model_2\", \"rb\") as f:\n",
    "    model_sw = pickle.load(f)\n",
    "    \n",
    "with open(\"/home/ajindal/Documents/Projects/landscraper/pickles/model_3\", \"rb\") as f:\n",
    "    model_bestprm = pickle.load(f)"
   ]
  },
  {
   "cell_type": "markdown",
   "metadata": {},
   "source": [
    "## Load New Data Set:"
   ]
  },
  {
   "cell_type": "code",
   "execution_count": 9,
   "metadata": {},
   "outputs": [],
   "source": [
    "test_set = \"/home/ajindal/Documents/Projects/landscraper/test-set\"\n",
    "patents = load_files(test_set)\n",
    "classifications = patents.target_names\n",
    "\n",
    "X_new = patents.data\n",
    "y_new = patents.target"
   ]
  },
  {
   "cell_type": "markdown",
   "metadata": {},
   "source": [
    "## Visualize New Data Set:"
   ]
  },
  {
   "cell_type": "code",
   "execution_count": 16,
   "metadata": {},
   "outputs": [
    {
     "name": "stdout",
     "output_type": "stream",
     "text": [
      "G06N has 182 patents\n",
      "G06D has 0 patents\n",
      "G06G has 100 patents\n",
      "G06F has 1717 patents\n",
      "G06T has 895 patents\n",
      "G06M has 14 patents\n",
      "G06J has 88 patents\n",
      "G06E has 61 patents\n",
      "G06Q has 963 patents\n",
      "G06K has 880 patents\n",
      "G06C has 367 patents\n"
     ]
    }
   ],
   "source": [
    "for classif in glob(os.path.join(test_set, \"*\")):\n",
    "    files = os.listdir(classif)\n",
    "    num_files = len(files)\n",
    "    print (\"{} has {} patents\".format(os.path.basename(classif), num_files))"
   ]
  },
  {
   "cell_type": "code",
   "execution_count": null,
   "metadata": {},
   "outputs": [],
   "source": [
    "predictions_vanilla = model.predict(patents.data)"
   ]
  },
  {
   "cell_type": "code",
   "execution_count": null,
   "metadata": {},
   "outputs": [],
   "source": [
    "np.mean(predictions_vanilla == patents.target)"
   ]
  },
  {
   "cell_type": "code",
   "execution_count": null,
   "metadata": {},
   "outputs": [],
   "source": []
  },
  {
   "cell_type": "code",
   "execution_count": null,
   "metadata": {},
   "outputs": [],
   "source": [
    "predictions_sw = model_sw.predict(patents.data)\n",
    "np.mean(predictions_sw == patents.target)"
   ]
  },
  {
   "cell_type": "code",
   "execution_count": null,
   "metadata": {},
   "outputs": [],
   "source": []
  },
  {
   "cell_type": "code",
   "execution_count": null,
   "metadata": {},
   "outputs": [],
   "source": [
    "predictions_bestprm = model_bestprm.predict(patents.data)\n",
    "np.mean(predictions_bestprm == patents.target)"
   ]
  },
  {
   "cell_type": "code",
   "execution_count": null,
   "metadata": {},
   "outputs": [],
   "source": [
    "predictions = cross_val_predict(model, patents.data, patents.target)\n",
    "predictions_sw = cross_val_predict(model_sw, patents.data, patents.target)\n",
    "predictions_best = cross_val_predict(model_bestprm, patents.data, patents.target)"
   ]
  },
  {
   "cell_type": "code",
   "execution_count": null,
   "metadata": {},
   "outputs": [],
   "source": [
    "skplt.metrics.plot_confusion_matrix(patents.target, predictions, normalize=True)\n",
    "plt.title(\"Regular SGDClassifier\")\n",
    "plt.show()"
   ]
  },
  {
   "cell_type": "code",
   "execution_count": null,
   "metadata": {},
   "outputs": [],
   "source": [
    "print(metrics.classification_report(patents, predictions, target_names=classifications))"
   ]
  },
  {
   "cell_type": "code",
   "execution_count": null,
   "metadata": {},
   "outputs": [],
   "source": [
    "metrics.confusion_matrix(y_test, prediction)"
   ]
  },
  {
   "cell_type": "code",
   "execution_count": null,
   "metadata": {},
   "outputs": [],
   "source": [
    "skplt.metrics.plot_confusion_matrix(y_test, predictions_sw, normalize=True)\n",
    "plt.title(\"Stop Words SGDClassifier\")\n",
    "plt.show()"
   ]
  },
  {
   "cell_type": "code",
   "execution_count": null,
   "metadata": {},
   "outputs": [],
   "source": []
  }
 ],
 "metadata": {
  "kernelspec": {
   "display_name": "Python 3",
   "language": "python",
   "name": "python3"
  },
  "language_info": {
   "codemirror_mode": {
    "name": "ipython",
    "version": 2
   },
   "file_extension": ".py",
   "mimetype": "text/x-python",
   "name": "python",
   "nbconvert_exporter": "python",
   "pygments_lexer": "ipython2",
   "version": "2.7.15rc1"
  }
 },
 "nbformat": 4,
 "nbformat_minor": 2
}
