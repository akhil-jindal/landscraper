{
 "cells": [
  {
   "cell_type": "markdown",
   "metadata": {},
   "source": [
    "# landscraper-predict_G06"
   ]
  },
  {
   "cell_type": "markdown",
   "metadata": {},
   "source": [
    "## Library Imports:"
   ]
  },
  {
   "cell_type": "code",
   "execution_count": null,
   "metadata": {},
   "outputs": [],
   "source": [
    "from sklearn.datasets import *\n",
    "from sklearn.pipeline import Pipeline\n",
    "\n",
    "import matplotlib.pyplot as plt\n",
    "from sklearn.model_selection import cross_val_predict\n",
    "import scikitplot as skplt\n",
    "from sklearn import metrics\n",
    "\n",
    "import pickle\n",
    "\n",
    "from glob import glob\n",
    "import numpy as np\n",
    "\n",
    "import os\n",
    "\n",
    "from bs4 import BeautifulSoup\n",
    "import requests\n",
    "\n",
    "import pandas as pd\n",
    "import csv"
   ]
  },
  {
   "cell_type": "markdown",
   "metadata": {},
   "source": [
    "## Get 'key players:'"
   ]
  },
  {
   "cell_type": "code",
   "execution_count": null,
   "metadata": {},
   "outputs": [],
   "source": [
    "def key_player(cpc):\n",
    "    \"\"\"The .csv file downloadable from patents.google.com.\n",
    "    However, for our purposes, the downloaded .csv has more information than we need.\n",
    "    We keep pertient columns, and delete rows that are associated with non-US patents.\n",
    "    \"\"\"\n",
    "    csv_file = \"../data/class_csv/{}.csv\".format(cpc)\n",
    "    df = pd.read_csv(csv_file, error_bad_lines=False, sep=',')\n",
    "    df = df.drop([\"inventor/author\", \"priority date\", \"filing/creation date\", \n",
    "                  \"grant date\", \"representative figure link\"], axis = 1)\n",
    "    df = df[df[\"id\"].str.contains(\"US\")]\n",
    "    \n",
    "    key_player = df.assignee.mode()\n",
    "    key_player = key_player[0]\n",
    "    return key_player"
   ]
  },
  {
   "cell_type": "markdown",
   "metadata": {},
   "source": [
    "## Load Models: "
   ]
  },
  {
   "cell_type": "code",
   "execution_count": null,
   "metadata": {},
   "outputs": [],
   "source": [
    "with open(\"/home/ajindal/Documents/Projects/landscraper/pickles/model_1\", \"rb\") as f:\n",
    "    model = pickle.load(f)\n",
    "    \n",
    "with open(\"/home/ajindal/Documents/Projects/landscraper/pickles/model_2\", \"rb\") as f:\n",
    "    model_sw = pickle.load(f)\n",
    "    \n",
    "with open(\"/home/ajindal/Documents/Projects/landscraper/pickles/model_3\", \"rb\") as f:\n",
    "    model_bestprm = pickle.load(f)"
   ]
  },
  {
   "cell_type": "markdown",
   "metadata": {},
   "source": [
    "## Load New Data Set:"
   ]
  },
  {
   "cell_type": "code",
   "execution_count": null,
   "metadata": {},
   "outputs": [],
   "source": [
    "test_set = \"/home/ajindal/Documents/Projects/landscraper/test-set\"\n",
    "patents = load_files(test_set)\n",
    "classifications = patents.target_names\n",
    "\n",
    "X_new = patents.data\n",
    "y_new = patents.target"
   ]
  },
  {
   "cell_type": "markdown",
   "metadata": {},
   "source": [
    "## Visualize New Data Set:"
   ]
  },
  {
   "cell_type": "code",
   "execution_count": null,
   "metadata": {},
   "outputs": [],
   "source": [
    "for classif in glob(os.path.join(test_set, \"*\")):\n",
    "    files = os.listdir(classif)\n",
    "    num_files = len(files)\n",
    "    print (\"Class {} has {} patents for predicting\".format(os.path.basename(classif), num_files))"
   ]
  },
  {
   "cell_type": "markdown",
   "metadata": {},
   "source": [
    "## Make predictions with each of the three models\n",
    "__Classifier 1:__ \"model\"\n",
    "\n",
    "__Classifier 2:__ \"model_sw\"\n",
    "\n",
    "__Classifier 3:__ \"model_bestprm\""
   ]
  },
  {
   "cell_type": "code",
   "execution_count": null,
   "metadata": {},
   "outputs": [],
   "source": [
    "prediction = model.predict(X_new)\n",
    "np.mean(prediction == y_new)"
   ]
  },
  {
   "cell_type": "code",
   "execution_count": null,
   "metadata": {},
   "outputs": [],
   "source": [
    "prediction_sw = model_sw.predict(X_new)\n",
    "np.mean(prediction_sw == y_new)"
   ]
  },
  {
   "cell_type": "code",
   "execution_count": null,
   "metadata": {},
   "outputs": [],
   "source": [
    "prediction_prm = model_bestprm.predict(X_new)\n",
    "np.mean(prediction_prm == y_new)"
   ]
  },
  {
   "cell_type": "markdown",
   "metadata": {},
   "source": [
    "### Classifier 1:"
   ]
  },
  {
   "cell_type": "code",
   "execution_count": null,
   "metadata": {},
   "outputs": [],
   "source": [
    "skplt.metrics.plot_confusion_matrix(y_new, prediction, normalize=True)\n",
    "plt.title(\"SGDClassifier - model.predict()\")\n",
    "plt.show()"
   ]
  },
  {
   "cell_type": "code",
   "execution_count": null,
   "metadata": {},
   "outputs": [],
   "source": [
    "print(metrics.classification_report(y_new, prediction, target_names=classifications))"
   ]
  },
  {
   "cell_type": "markdown",
   "metadata": {},
   "source": [
    "### Classifier 2:"
   ]
  },
  {
   "cell_type": "code",
   "execution_count": null,
   "metadata": {},
   "outputs": [],
   "source": [
    "skplt.metrics.plot_confusion_matrix(y_new, prediction_sw, normalize=True)\n",
    "plt.title(\"Stop Word SGDClassifier - model.predict()\")\n",
    "plt.show()"
   ]
  },
  {
   "cell_type": "code",
   "execution_count": null,
   "metadata": {},
   "outputs": [],
   "source": [
    "print(metrics.classification_report(y_new, prediction_sw, target_names=classifications))"
   ]
  },
  {
   "cell_type": "markdown",
   "metadata": {},
   "source": [
    "### Classifier 3:"
   ]
  },
  {
   "cell_type": "code",
   "execution_count": null,
   "metadata": {},
   "outputs": [],
   "source": [
    "skplt.metrics.plot_confusion_matrix(y_new, prediction_prm, normalize=True)\n",
    "plt.title(\"Parameter Tuned SGDClassifier - model.predict()\")\n",
    "plt.show()"
   ]
  },
  {
   "cell_type": "code",
   "execution_count": null,
   "metadata": {},
   "outputs": [],
   "source": [
    "print(metrics.classification_report(y_new, prediction_prm, target_names=classifications))"
   ]
  },
  {
   "cell_type": "markdown",
   "metadata": {},
   "source": [
    "## Key Player Prediction:"
   ]
  },
  {
   "cell_type": "code",
   "execution_count": null,
   "metadata": {},
   "outputs": [],
   "source": [
    "key_player_test = \"/home/ajindal/Dropbox/src/landscraper/data/key_player\"\n",
    "patents_keyplayer = load_files(key_player_test)\n",
    "classifications_keyplayer = patents_keyplayer.target_names\n",
    "\n",
    "X_kp = patents_keyplayer\n",
    "y_kp = classifications_keyplayer"
   ]
  },
  {
   "cell_type": "code",
   "execution_count": null,
   "metadata": {},
   "outputs": [],
   "source": [
    "kp_pred_1 = model.predict(X_kp)"
   ]
  },
  {
   "cell_type": "code",
   "execution_count": null,
   "metadata": {},
   "outputs": [],
   "source": [
    "for doc, category in zip(filenames, kp_pred_1):\n",
    "    key_players = key_player(patents.target_names[category])\n",
    "    print('%r => %s. Key Player: %s' % (os.path.basename(doc), patents.target_names[category], key_players))"
   ]
  },
  {
   "cell_type": "code",
   "execution_count": null,
   "metadata": {
    "scrolled": true
   },
   "outputs": [],
   "source": [
    "kp_pred_2 = model_sw.predict(X_kp)\n",
    "\n",
    "for doc, category in zip(filenames, kp_pred_2):\n",
    "    key_players = key_player(patents.target_names[category])\n",
    "    print('%r => %s. Key Player: %s' % (os.path.basename(doc), patents.target_names[category], key_players))"
   ]
  },
  {
   "cell_type": "code",
   "execution_count": null,
   "metadata": {},
   "outputs": [],
   "source": [
    "kp_pred_3 = model_sw.predict(X_kp)\n",
    "\n",
    "for doc, category in zip(filenames, kp_pred_3):\n",
    "    key_players = key_player(patents.target_names[category])\n",
    "    print('%r => %s. Key Player: %s' % (os.path.basename(doc), patents.target_names[category], key_players))"
   ]
  },
  {
   "cell_type": "code",
   "execution_count": null,
   "metadata": {},
   "outputs": [],
   "source": []
  }
 ],
 "metadata": {
  "kernelspec": {
   "display_name": "Python 3",
   "language": "python",
   "name": "python3"
  },
  "language_info": {
   "codemirror_mode": {
    "name": "ipython",
    "version": 2
   },
   "file_extension": ".py",
   "mimetype": "text/x-python",
   "name": "python",
   "nbconvert_exporter": "python",
   "pygments_lexer": "ipython2",
   "version": "2.7.15rc1"
  }
 },
 "nbformat": 4,
 "nbformat_minor": 2
}
