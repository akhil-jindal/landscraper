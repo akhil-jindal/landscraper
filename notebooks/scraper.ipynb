{
 "cells": [
  {
   "cell_type": "markdown",
   "metadata": {},
   "source": [
    "# landscraper - doing the dirty work for intellectual property (IP) decisions\n",
    "\n",
    "__Contributer: Akhil Jindal__ | https://github.com/akhil-jindal/"
   ]
  },
  {
   "cell_type": "markdown",
   "metadata": {},
   "source": [
    "### Library Imports:"
   ]
  },
  {
   "cell_type": "code",
   "execution_count": null,
   "metadata": {},
   "outputs": [],
   "source": [
    "from bs4 import BeautifulSoup\n",
    "import requests\n",
    "import os\n",
    "import csv\n",
    "import pandas as pd\n",
    "import re\n",
    "from glob import glob"
   ]
  },
  {
   "cell_type": "markdown",
   "metadata": {},
   "source": [
    "### Classes and functions:"
   ]
  },
  {
   "cell_type": "code",
   "execution_count": null,
   "metadata": {},
   "outputs": [],
   "source": [
    "class Patent:\n",
    "    \n",
    "    def __init__(self, title, number, assignee, pub_date, source):\n",
    "        \"\"\"Defining pertinent attributes\n",
    "        \"\"\"\n",
    "        self.title = title\n",
    "        self.number = number\n",
    "        self.assignee = assignee\n",
    "        self.pub_date = pub_date\n",
    "        self.source = source\n",
    "           \n",
    "    def soupify(self):\n",
    "        \"\"\"Soupify for BeautifulSoup\n",
    "        \"\"\"\n",
    "        src = requests.get('{}'.format(self.source)).text\n",
    "        soup = BeautifulSoup(src, 'lxml')\n",
    "        return soup\n",
    "    \n",
    "    def description(self, soup):\n",
    "        \"\"\"Returns a detailed description of target patent application\n",
    "        Can include Abstract, Summary and Background\n",
    "        \"\"\"\n",
    "        description = soup.find('div', class_='description').text\n",
    "        return description\n",
    "      \n",
    "    def genContent(self, classification, corpus_dir, soup):\n",
    "        \"\"\"Generates a training document for a corpus\n",
    "        \"\"\"\n",
    "        class_dir = os.path.join(corpus_dir, classification)\n",
    "        file_name = re.sub('[^A-Za-z0-9]+', '', self.number)\n",
    "        \n",
    "        if os.path.isdir(class_dir):\n",
    "            write_path = os.path.join(class_dir, file_name)\n",
    "            \n",
    "            try:\n",
    "                self.writeContent(write_path)\n",
    "                \n",
    "            except:\n",
    "                 print (\"Failed to generate {}\".format(self.number))\n",
    "        \n",
    "        else:\n",
    "            os.mkdir(class_dir)\n",
    "            write_path = os.path.join(class_dir, file_name)\n",
    "            \n",
    "            try:\n",
    "                self.writeContent(write_path)\n",
    "\n",
    "            except:\n",
    "                 print (\"Failed to generate {}\".format(self.number))\n",
    "        \n",
    "    \n",
    "    def writeContent(self, write_file):\n",
    "        \"\"\"Writes the content for a training document\n",
    "        \"\"\"\n",
    "        with open(write_file, \"w\") as wf:\n",
    "            header = str(self.title) + \"\\n\" + str(self.number) + \"\\n\" + str(self.assignee) + \"\\n\" + str(self.pub_date) + \"\\n\" + str(self.source) + \"\\n\"\n",
    "            wf.write(header)\n",
    "            try:\n",
    "                desc = self.description(soup).encode('utf-8').strip()\n",
    "                wf.write(desc)\n",
    "            except:\n",
    "                print (\"Encoding messed up for {}\".format(write_file))\n",
    "        wf.close()"
   ]
  },
  {
   "cell_type": "code",
   "execution_count": null,
   "metadata": {},
   "outputs": [],
   "source": [
    "def cleanCSV(csv_file):\n",
    "    \"\"\"The .csv file downloadable from patents.google.com.\n",
    "    However, for our purposes, the downloaded .csv has more information than we need.\n",
    "    We keep pertient columns, and delete rows that are associated with non-US patents.\n",
    "    \"\"\"\n",
    "    \n",
    "    df = pd.read_csv(csv_file, error_bad_lines=False, sep=',')\n",
    "    df = df.drop([\"inventor/author\", \"priority date\", \"filing/creation date\", \n",
    "                  \"grant date\", \"representative figure link\"], axis = 1)\n",
    "    df = df[df[\"id\"].str.contains(\"US\")]\n",
    "    return df\n",
    "\n",
    "def definePatent(dataframe):\n",
    "    \"\"\"Uses Patent class to generate patents for further processing\n",
    "    \"\"\"\n",
    "    patents = []\n",
    "    for index, row in dataframe.iterrows():\n",
    "        patent = Patent(row[\"title\"], row[\"id\"], row[\"assignee\"], row[\"publication date\"], row[\"result link\"])\n",
    "        patents.append(patent)\n",
    "    return patents\n",
    "\n",
    "def classify(csv_file):\n",
    "    classification = os.path.basename(csv_file).split(\".\")[0]\n",
    "    return classification"
   ]
  },
  {
   "cell_type": "markdown",
   "metadata": {},
   "source": [
    "### Preparing Corpus:\n",
    "\n",
    "Note:\n",
    "\n",
    "* The .csv's which contain identification information for each Patent were manually downloaded from patents.google.com.\n",
    "\n",
    "* Certain certain classifications will yield more patents than others.  Down sampling may be necessary to ensure a balanced data set for training. "
   ]
  },
  {
   "cell_type": "markdown",
   "metadata": {},
   "source": [
    "__Inputs:__"
   ]
  },
  {
   "cell_type": "code",
   "execution_count": null,
   "metadata": {},
   "outputs": [],
   "source": [
    "csv_dir = \"/home/ajindal/Documents/landscraper/class_csv/\"\n",
    "corpus_dir = \"/home/ajindal/Documents/landscraper/corpus\""
   ]
  },
  {
   "cell_type": "markdown",
   "metadata": {},
   "source": [
    "__Getting Training Documents__"
   ]
  },
  {
   "cell_type": "code",
   "execution_count": null,
   "metadata": {
    "scrolled": true
   },
   "outputs": [],
   "source": [
    "globabble_dir = os.path.join(csv_dir, \"*\")\n",
    "\n",
    "for csv_file in glob(globabble_dir):\n",
    "    classification = classify(csv_file)\n",
    "    \n",
    "    print(\"Preparing the following class: {}\".format(classification))\n",
    "    clean = cleanCSV(csv_file)\n",
    "   \n",
    "    patents = definePatent(clean)\n",
    "          \n",
    "    for patent in patents:\n",
    "        soup = patent.soupify()\n",
    "        patent.genContent(classification, corpus_dir, soup)"
   ]
  }
 ],
 "metadata": {
  "kernelspec": {
   "display_name": "Python 3",
   "language": "python",
   "name": "python3"
  },
  "language_info": {
   "codemirror_mode": {
    "name": "ipython",
    "version": 2
   },
   "file_extension": ".py",
   "mimetype": "text/x-python",
   "name": "python",
   "nbconvert_exporter": "python",
   "pygments_lexer": "ipython2",
   "version": "2.7.15rc1"
  }
 },
 "nbformat": 4,
 "nbformat_minor": 2
}
